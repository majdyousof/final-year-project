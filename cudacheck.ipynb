{
 "cells": [
  {
   "cell_type": "code",
   "execution_count": 11,
   "metadata": {},
   "outputs": [
    {
     "name": "stdout",
     "output_type": "stream",
     "text": [
      "12.4\n"
     ]
    }
   ],
   "source": [
    "import torch\n",
    "from torch_geometric.data import Data\n",
    "from torch_geometric.loader import DataLoader\n",
    "print(torch.version.cuda)"
   ]
  },
  {
   "cell_type": "code",
   "execution_count": 12,
   "metadata": {},
   "outputs": [
    {
     "name": "stdout",
     "output_type": "stream",
     "text": [
      "Data(x=[4, 2], edge_index=[2, 4], edge_attr=[4])\n"
     ]
    }
   ],
   "source": [
    "# Define node features (e.g., weights or attributes of stations)\n",
    "# Assume you have 4 stations (nodes), each with a feature vector of size 2\n",
    "node_features = torch.tensor([[1.0, 2.0],\n",
    "                              [2.0, 3.0], \n",
    "                              [3.0, 4.0], \n",
    "                              [4.0, 5.0]], dtype=torch.float)\n",
    "\n",
    "# Define edge connections (source and target nodes)\n",
    "# For example, edges between stations: 0 -> 1, 1 -> 2, etc.\n",
    "edge_index = torch.tensor([[0, 1, 2, 3],\n",
    "                           [1, 2, 3, 0]], dtype=torch.long)  # Shape: [2, num_edges]\n",
    "\n",
    "# Define edge weights (e.g., distances or connection strengths)\n",
    "edge_weights = torch.tensor([1.5, 2.5, 3.5, 4.5], dtype=torch.float)\n",
    "\n",
    "# Create the graph data object\n",
    "data = Data(x=node_features, edge_index=edge_index, edge_attr=edge_weights)\n",
    "\n",
    "print(data)"
   ]
  },
  {
   "cell_type": "code",
   "execution_count": 13,
   "metadata": {},
   "outputs": [
    {
     "name": "stdout",
     "output_type": "stream",
     "text": [
      "DataBatch(x=[8, 2], edge_index=[2, 8], edge_attr=[8], batch=[8], ptr=[3])\n",
      "DataBatch(x=[8, 2], edge_index=[2, 8], edge_attr=[8], batch=[8], ptr=[3])\n",
      "DataBatch(x=[8, 2], edge_index=[2, 8], edge_attr=[8], batch=[8], ptr=[3])\n",
      "DataBatch(x=[8, 2], edge_index=[2, 8], edge_attr=[8], batch=[8], ptr=[3])\n",
      "DataBatch(x=[8, 2], edge_index=[2, 8], edge_attr=[8], batch=[8], ptr=[3])\n"
     ]
    }
   ],
   "source": [
    "# Create multiple graphs (one for each time interval)\n",
    "graphs = []\n",
    "for t in range(10):  # Example: Create 10 graphs for different intervals\n",
    "    node_features = torch.rand((4, 2))  # Random node features for this example\n",
    "    edge_index = torch.tensor([[0, 1, 2, 3],\n",
    "                                [1, 2, 3, 0]], dtype=torch.long)\n",
    "    edge_weights = torch.rand(4)       # Random edge weights for this example\n",
    "    graphs.append(Data(x=node_features, edge_index=edge_index, edge_attr=edge_weights))\n",
    "\n",
    "# Create a DataLoader for batching graphs during training\n",
    "loader = DataLoader(graphs, batch_size=2)  # Batch size of 2 graphs\n",
    "\n",
    "for batch in loader:\n",
    "    print(batch)"
   ]
  },
  {
   "cell_type": "code",
   "execution_count": 14,
   "metadata": {},
   "outputs": [],
   "source": [
    "import torch.nn.functional as F\n",
    "from torch_geometric.nn import GCNConv\n",
    "\n",
    "class GNN(torch.nn.Module):\n",
    "    def __init__(self):\n",
    "        super(GNN, self).__init__()\n",
    "        self.conv1 = GCNConv(in_channels=2, out_channels=16)   # Input size matches node feature size\n",
    "        self.conv2 = GCNConv(in_channels=16, out_channels=8)   # Hidden layer\n",
    "\n",
    "    def forward(self, data):\n",
    "        x, edge_index = data.x, data.edge_index\n",
    "        \n",
    "        # First GCN layer with ReLU activation\n",
    "        x = self.conv1(x, edge_index)\n",
    "        x = F.relu(x)\n",
    "        \n",
    "        # Second GCN layer (output layer)\n",
    "        x = self.conv2(x, edge_index)\n",
    "        return x\n"
   ]
  },
  {
   "cell_type": "code",
   "execution_count": 15,
   "metadata": {},
   "outputs": [
    {
     "name": "stdout",
     "output_type": "stream",
     "text": [
      "Epoch 1, Loss: 1.1365\n",
      "Epoch 2, Loss: 0.6578\n",
      "Epoch 3, Loss: 0.4567\n",
      "Epoch 4, Loss: 0.5721\n",
      "Epoch 5, Loss: 0.4968\n",
      "Epoch 6, Loss: 0.4519\n",
      "Epoch 7, Loss: 0.5042\n",
      "Epoch 8, Loss: 0.4478\n",
      "Epoch 9, Loss: 0.4659\n",
      "Epoch 10, Loss: 0.4702\n",
      "Epoch 11, Loss: 0.4523\n",
      "Epoch 12, Loss: 0.4578\n",
      "Epoch 13, Loss: 0.4548\n",
      "Epoch 14, Loss: 0.4610\n",
      "Epoch 15, Loss: 0.4520\n",
      "Epoch 16, Loss: 0.4758\n",
      "Epoch 17, Loss: 0.4104\n",
      "Epoch 18, Loss: 0.3936\n",
      "Epoch 19, Loss: 0.4456\n",
      "Epoch 20, Loss: 0.4572\n",
      "Epoch 21, Loss: 0.4601\n",
      "Epoch 22, Loss: 0.4695\n",
      "Epoch 23, Loss: 0.4533\n",
      "Epoch 24, Loss: 0.4467\n",
      "Epoch 25, Loss: 0.4174\n",
      "Epoch 26, Loss: 0.4291\n",
      "Epoch 27, Loss: 0.3914\n",
      "Epoch 28, Loss: 0.4209\n",
      "Epoch 29, Loss: 0.4283\n",
      "Epoch 30, Loss: 0.4218\n",
      "Epoch 31, Loss: 0.4206\n",
      "Epoch 32, Loss: 0.4498\n",
      "Epoch 33, Loss: 0.4192\n",
      "Epoch 34, Loss: 0.4252\n",
      "Epoch 35, Loss: 0.3920\n",
      "Epoch 36, Loss: 0.4172\n",
      "Epoch 37, Loss: 0.4724\n",
      "Epoch 38, Loss: 0.4529\n",
      "Epoch 39, Loss: 0.4036\n",
      "Epoch 40, Loss: 0.4118\n",
      "Epoch 41, Loss: 0.4133\n",
      "Epoch 42, Loss: 0.3915\n",
      "Epoch 43, Loss: 0.4199\n",
      "Epoch 44, Loss: 0.3894\n",
      "Epoch 45, Loss: 0.4236\n",
      "Epoch 46, Loss: 0.4183\n",
      "Epoch 47, Loss: 0.4564\n",
      "Epoch 48, Loss: 0.4167\n",
      "Epoch 49, Loss: 0.3943\n",
      "Epoch 50, Loss: 0.4152\n",
      "Epoch 51, Loss: 0.4297\n",
      "Epoch 52, Loss: 0.4390\n",
      "Epoch 53, Loss: 0.4378\n",
      "Epoch 54, Loss: 0.3971\n",
      "Epoch 55, Loss: 0.4299\n",
      "Epoch 56, Loss: 0.4425\n",
      "Epoch 57, Loss: 0.4405\n",
      "Epoch 58, Loss: 0.4434\n",
      "Epoch 59, Loss: 0.4501\n",
      "Epoch 60, Loss: 0.4092\n",
      "Epoch 61, Loss: 0.4061\n",
      "Epoch 62, Loss: 0.4149\n",
      "Epoch 63, Loss: 0.4343\n",
      "Epoch 64, Loss: 0.4274\n",
      "Epoch 65, Loss: 0.4181\n",
      "Epoch 66, Loss: 0.4438\n",
      "Epoch 67, Loss: 0.4121\n",
      "Epoch 68, Loss: 0.4028\n",
      "Epoch 69, Loss: 0.4589\n",
      "Epoch 70, Loss: 0.4377\n",
      "Epoch 71, Loss: 0.4129\n",
      "Epoch 72, Loss: 0.4298\n",
      "Epoch 73, Loss: 0.4479\n",
      "Epoch 74, Loss: 0.4282\n",
      "Epoch 75, Loss: 0.3943\n",
      "Epoch 76, Loss: 0.3969\n",
      "Epoch 77, Loss: 0.4144\n",
      "Epoch 78, Loss: 0.4420\n",
      "Epoch 79, Loss: 0.4169\n",
      "Epoch 80, Loss: 0.4086\n",
      "Epoch 81, Loss: 0.4347\n",
      "Epoch 82, Loss: 0.3981\n",
      "Epoch 83, Loss: 0.4271\n",
      "Epoch 84, Loss: 0.4178\n",
      "Epoch 85, Loss: 0.4425\n",
      "Epoch 86, Loss: 0.4003\n",
      "Epoch 87, Loss: 0.4202\n",
      "Epoch 88, Loss: 0.4235\n",
      "Epoch 89, Loss: 0.4436\n",
      "Epoch 90, Loss: 0.4227\n",
      "Epoch 91, Loss: 0.4497\n",
      "Epoch 92, Loss: 0.3952\n",
      "Epoch 93, Loss: 0.4140\n",
      "Epoch 94, Loss: 0.4466\n",
      "Epoch 95, Loss: 0.4255\n",
      "Epoch 96, Loss: 0.3943\n",
      "Epoch 97, Loss: 0.4087\n",
      "Epoch 98, Loss: 0.4546\n",
      "Epoch 99, Loss: 0.4151\n",
      "Epoch 100, Loss: 0.4117\n"
     ]
    }
   ],
   "source": [
    "from torch.optim import Adam\n",
    "\n",
    "# Initialize model and optimizer\n",
    "model = GNN()\n",
    "optimizer = Adam(model.parameters(), lr=0.01)\n",
    "\n",
    "# Training loop\n",
    "for epoch in range(100):   # Number of epochs\n",
    "    model.train()\n",
    "    total_loss = 0\n",
    "    \n",
    "    for batch in loader:\n",
    "        optimizer.zero_grad()\n",
    "        \n",
    "        # Forward pass through the model\n",
    "        out = model(batch)\n",
    "        \n",
    "        # Example loss function (e.g., Mean Squared Error for regression tasks)\n",
    "        target = torch.rand((batch.num_nodes, 8))   # Random target for demonstration\n",
    "        loss = F.mse_loss(out, target)\n",
    "        \n",
    "        loss.backward()      # Backpropagation\n",
    "        optimizer.step()     # Update parameters\n",
    "        \n",
    "        total_loss += loss.item()\n",
    "    \n",
    "    print(f'Epoch {epoch+1}, Loss: {total_loss:.4f}')\n"
   ]
  }
 ],
 "metadata": {
  "kernelspec": {
   "display_name": "myenv",
   "language": "python",
   "name": "python3"
  },
  "language_info": {
   "codemirror_mode": {
    "name": "ipython",
    "version": 3
   },
   "file_extension": ".py",
   "mimetype": "text/x-python",
   "name": "python",
   "nbconvert_exporter": "python",
   "pygments_lexer": "ipython3",
   "version": "3.11.4"
  }
 },
 "nbformat": 4,
 "nbformat_minor": 2
}
